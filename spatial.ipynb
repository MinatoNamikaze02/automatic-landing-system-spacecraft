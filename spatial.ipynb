{
 "cells": [
  {
   "cell_type": "code",
   "execution_count": null,
   "metadata": {},
   "outputs": [],
   "source": [
    "import numpy as np\n",
    "import cv2 as cv\n",
    "from matplotlib import pyplot as plt"
   ]
  },
  {
   "cell_type": "code",
   "execution_count": null,
   "metadata": {},
   "outputs": [],
   "source": [
    "#sharpening\n",
    "img = cv.imread('images/PCAM1.png')\n",
    "gray = cv.cvtColor(img, cv.COLOR_BGR2GRAY)\n",
    "kernel = np.array([[-1, -1, -1], [-1, 9, -1], [-1, -1, -1]])\n",
    "sharpened = cv.filter2D(gray, -1, kernel)\n",
    "plt.figure(figsize=(10, 10))\n",
    "plt.subplot(121), plt.imshow(gray, cmap='gray'), plt.title('Original')\n",
    "plt.subplot(122), plt.imshow(sharpened, cmap='gray'), plt.title('Sharpened')\n",
    "plt.show()"
   ]
  },
  {
   "cell_type": "code",
   "execution_count": null,
   "metadata": {},
   "outputs": [],
   "source": [
    "# sobel\n",
    "ksize = 3\n",
    "img = cv.imread('images/PCAM1.png')\n",
    "\n",
    "gX = cv.Sobel(gray, ddepth=cv.CV_32F, dx=1, dy=0, ksize=ksize)\n",
    "gY = cv.Sobel(gray, ddepth=cv.CV_32F, dx=0, dy=1, ksize=ksize)\n",
    "\n",
    "gX = cv.convertScaleAbs(gX)\n",
    "gY = cv.convertScaleAbs(gY)\n",
    "combined = cv.addWeighted(gX, 0.5, gY, 0.5, 0)\n",
    "\n",
    "plt.figure(figsize=(10, 10))\n",
    "plt.subplot(121), plt.imshow(gX, cmap='gray'), plt.title('Sobel X')\n",
    "plt.subplot(122), plt.imshow(gY, cmap='gray'), plt.title('Sobel Y')\n",
    "plt.show()\n",
    "\n",
    "plt.figure(figsize=(10, 10))\n",
    "plt.subplot(121), plt.imshow(combined, cmap='gray'), plt.title('Sobel Combined')"
   ]
  },
  {
   "cell_type": "code",
   "execution_count": null,
   "metadata": {},
   "outputs": [],
   "source": [
    "# laplacian\n",
    "ddepth = cv.CV_16S\n",
    "ksize = 3\n",
    "gray = cv.cvtColor(img, cv.COLOR_BGR2GRAY)\n",
    "\n",
    "dst = cv.Laplacian(gray, ddepth, ksize=ksize)\n",
    "\n",
    "abs_dst = cv.convertScaleAbs(dst)\n",
    "\n",
    "plt.figure(figsize=(10, 10))\n",
    "plt.subplot(121), plt.imshow(gray, cmap='gray'), plt.title('Original')\n",
    "plt.subplot(122), plt.imshow(abs_dst, cmap='gray'), plt.title('Laplacian')\n",
    "plt.show()"
   ]
  },
  {
   "cell_type": "code",
   "execution_count": null,
   "metadata": {},
   "outputs": [],
   "source": [
    "#gaussian blur\n",
    "img = cv.imread('images/PCAM1.png')\n",
    "gray = cv.cvtColor(img, cv.COLOR_BGR2GRAY)\n",
    "blur = cv.GaussianBlur(gray, (5, 5), 0)\n",
    "plt.figure(figsize=(10, 10))\n",
    "plt.subplot(121), plt.imshow(gray, cmap='gray'), plt.title('Original')\n",
    "plt.subplot(122), plt.imshow(blur, cmap='gray'), plt.title('Gaussian Blur')\n",
    "plt.show()"
   ]
  },
  {
   "cell_type": "code",
   "execution_count": null,
   "metadata": {},
   "outputs": [],
   "source": [
    "#2d filtering\n",
    "img = cv.imread('images/PCAM1.png')\n",
    "gray = cv.cvtColor(img, cv.COLOR_BGR2GRAY)\n",
    "kernel = np.ones((5, 5), np.float32)/25\n",
    "dst = cv.filter2D(gray, -1, kernel)\n",
    "plt.figure(figsize=(10, 10))\n",
    "plt.subplot(121), plt.imshow(gray, cmap='gray'), plt.title('Original')\n",
    "plt.subplot(122), plt.imshow(dst, cmap='gray'), plt.title('2D Filtering')\n",
    "plt.show()"
   ]
  },
  {
   "cell_type": "code",
   "execution_count": null,
   "metadata": {},
   "outputs": [],
   "source": [
    "#Unsharp Masking\n",
    "img = cv.imread('images/PCAM1.png')\n",
    "gray = cv.cvtColor(img, cv.COLOR_BGR2GRAY)\n",
    "blur = cv.blur(gray, (15, 15))\n",
    "unsharp = cv.addWeighted(gray, 2, blur, -1, 0)\n",
    "plt.figure(figsize=(10, 10))\n",
    "plt.subplot(121), plt.imshow(gray, cmap='gray'), plt.title('Original')\n",
    "plt.subplot(122), plt.imshow(unsharp, cmap='gray'), plt.title('Unsharp Masking')\n",
    "plt.show()"
   ]
  },
  {
   "cell_type": "code",
   "execution_count": null,
   "metadata": {},
   "outputs": [],
   "source": [
    "def highBoostFiltering(image, boost_factor):\n",
    "    image = cv.cvtColor(image, cv.COLOR_BGR2GRAY) #Converting Image to Gray Scale\n",
    "    resultant_image = image.copy()\n",
    "    for i in range(1,image.shape[0]-1):\n",
    "        for j in range(1,image.shape[1]-1):\n",
    "            blur_factor = (image[i-1, j-1] + image[i-1, j] - image[i-1, j+1] + image[i, j-1] + image[i, j] + image[i, j+1] + image[i+1, j+1] + image[i+1, j] + image[i+1, j+1])/9\n",
    "            mask = boost_factor*image[i, j] - blur_factor\n",
    "            resultant_image[i, j] = image[i, j] + mask\n",
    "            \n",
    "    return image, resultant_image\n",
    "\n",
    "# highboost filtering\n",
    "img = cv.imread('images/PCAM1.png')\n",
    "gray, resultant_image = highBoostFiltering(img, boost_factor=2)\n",
    "# unsharp masking\n",
    "gray2, resultant_image2 = highBoostFiltering(img, boost_factor=1)\n",
    "plt.figure(figsize=(10, 10))\n",
    "plt.subplot(121), plt.imshow(gray, cmap='gray'), plt.title('Original')\n",
    "plt.subplot(122), plt.imshow(resultant_image, cmap='gray'), plt.title('High Boost Filtering')\n",
    "plt.show()\n",
    "\n",
    "plt.figure(figsize=(10, 10))\n",
    "plt.subplot(121), plt.imshow(gray2, cmap='gray'), plt.title('Original')\n",
    "plt.subplot(122), plt.imshow(resultant_image2, cmap='gray'), plt.title('Unsharp Masking')"
   ]
  },
  {
   "cell_type": "code",
   "execution_count": null,
   "metadata": {},
   "outputs": [],
   "source": [
    "#High Boost Filtering\n",
    "img = cv.imread('images/PCAM1.png')\n",
    "gray = cv.cvtColor(img, cv.COLOR_BGR2GRAY)\n",
    "blur = cv.blur(gray, (15, 15))\n",
    "highboost = cv.addWeighted(gray, 2, blur, 1-2, 0)\n",
    "plt.figure(figsize=(10, 10))\n",
    "plt.subplot(121), plt.imshow(gray, cmap='gray'), plt.title('Original')\n",
    "plt.subplot(122), plt.imshow(highboost, cmap='gray'), plt.title('High Boost Filtering')\n",
    "plt.show()"
   ]
  },
  {
   "cell_type": "code",
   "execution_count": null,
   "metadata": {},
   "outputs": [],
   "source": []
  },
  {
   "cell_type": "code",
   "execution_count": null,
   "metadata": {},
   "outputs": [],
   "source": []
  },
  {
   "cell_type": "code",
   "execution_count": null,
   "metadata": {},
   "outputs": [],
   "source": []
  },
  {
   "cell_type": "code",
   "execution_count": null,
   "metadata": {},
   "outputs": [],
   "source": []
  }
 ],
 "metadata": {
  "kernelspec": {
   "display_name": "Python 3",
   "language": "python",
   "name": "python3"
  },
  "language_info": {
   "name": "python",
   "version": "3.10.6 (v3.10.6:9c7b4bd164, Aug  1 2022, 17:13:48) [Clang 13.0.0 (clang-1300.0.29.30)]"
  },
  "orig_nbformat": 4,
  "vscode": {
   "interpreter": {
    "hash": "aee8b7b246df8f9039afb4144a1f6fd8d2ca17a180786b69acc140d282b71a49"
   }
  }
 },
 "nbformat": 4,
 "nbformat_minor": 2
}
